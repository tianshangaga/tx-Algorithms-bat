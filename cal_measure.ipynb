{
 "cells": [
  {
   "cell_type": "markdown",
   "metadata": {},
   "source": [
    "## SAMPLE && score"
   ]
  },
  {
   "cell_type": "code",
   "execution_count": null,
   "metadata": {},
   "outputs": [],
   "source": [
    "import pandas as pd\n",
    "\n",
    "d1 = pd.read_table('test_sample.csv', header=None, names = ['id','at'])\n",
    "d2 = pd.read_table('submission.csv', header=None, names = ['id', 'ft'])\n",
    "res = pd.merge(d1,d2,on='id')    \n",
    "SAMPE = (res['ft'] - res['At']).abs()/(res['ft'] + res['At'])*2).mean()"
   ]
  },
  {
   "cell_type": "code",
   "execution_count": null,
   "metadata": {},
   "outputs": [],
   "source": [
    "## n is the times of randomly sample bid \n",
    "n = 2\n",
    "bid0 = train_data['bid']\n",
    "score = []\n",
    "for i in range(1+n):\n",
    "    bid = pd.DataFrame(np.random.randint(1,200,train_data.shape[0]))   \n",
    "#### train, output imp1,...,impn\n",
    "    imp = pd.DataFrame(pre_label)\n",
    "    imp0 = imp if i == 0\n",
    "    if i>0:\n",
    "        score.append(np.sum(((imp0 - imp)*(bid0 - bid)\n",
    "                             /((imp0 - imp)*(bid0 - bid)).abs()).mean(),axis=0))\n",
    "        \n",
    "MonoScore = sum(score)/n"
   ]
  }
 ],
 "metadata": {
  "kernelspec": {
   "display_name": "Python 3",
   "language": "python",
   "name": "python3"
  },
  "language_info": {
   "codemirror_mode": {
    "name": "ipython",
    "version": 3
   },
   "file_extension": ".py",
   "mimetype": "text/x-python",
   "name": "python",
   "nbconvert_exporter": "python",
   "pygments_lexer": "ipython3",
   "version": "3.6.4"
  }
 },
 "nbformat": 4,
 "nbformat_minor": 2
}
